{
 "cells": [
  {
   "cell_type": "code",
   "execution_count": null,
   "id": "92af2e7e-43fe-451e-b1f1-ed73b2fff864",
   "metadata": {},
   "outputs": [],
   "source": [
    "import tarfile\n",
    "\n",
    "with tarfile.open('C:/Users/kdarc/OneDrive/Desktop/M6W4/aclImdb_v1.tar.gz', 'r:gz') as tar:\n",
    "    tar.extractall(path='C:/Users/kdarc/OneDrive/Desktop/M6W4')\n"
   ]
  },
  {
   "cell_type": "code",
   "execution_count": 1,
   "id": "9a4432ff-71b7-47b2-b68e-040dd5c7c347",
   "metadata": {},
   "outputs": [
    {
     "name": "stderr",
     "output_type": "stream",
     "text": [
      "Some weights of the model checkpoint at bert-base-uncased were not used when initializing BertForSequenceClassification: ['cls.predictions.transform.LayerNorm.bias', 'cls.predictions.transform.dense.bias', 'cls.seq_relationship.bias', 'cls.predictions.bias', 'cls.predictions.transform.dense.weight', 'cls.seq_relationship.weight', 'cls.predictions.transform.LayerNorm.weight']\n",
      "- This IS expected if you are initializing BertForSequenceClassification from the checkpoint of a model trained on another task or with another architecture (e.g. initializing a BertForSequenceClassification model from a BertForPreTraining model).\n",
      "- This IS NOT expected if you are initializing BertForSequenceClassification from the checkpoint of a model that you expect to be exactly identical (initializing a BertForSequenceClassification model from a BertForSequenceClassification model).\n",
      "Some weights of BertForSequenceClassification were not initialized from the model checkpoint at bert-base-uncased and are newly initialized: ['classifier.weight', 'classifier.bias']\n",
      "You should probably TRAIN this model on a down-stream task to be able to use it for predictions and inference.\n",
      "C:\\ProgramData\\Anaconda3\\lib\\site-packages\\transformers\\optimization.py:411: FutureWarning: This implementation of AdamW is deprecated and will be removed in a future version. Use the PyTorch implementation torch.optim.AdamW instead, or set `no_deprecation_warning=True` to disable this warning\n",
      "  warnings.warn(\n",
      "C:\\Users\\kdarc\\AppData\\Local\\Temp\\ipykernel_9480\\2075574221.py:73: UserWarning: To copy construct from a tensor, it is recommended to use sourceTensor.clone().detach() or sourceTensor.clone().detach().requires_grad_(True), rather than torch.tensor(sourceTensor).\n",
      "  labels = torch.tensor(labels).unsqueeze(0).to(device)\n"
     ]
    },
    {
     "name": "stdout",
     "output_type": "stream",
     "text": [
      "After epoch 1, accuracy: 0.93396, f1: 0.9349564669266832, precision: 0.921058759605682, recall: 0.94928\n"
     ]
    },
    {
     "name": "stderr",
     "output_type": "stream",
     "text": [
      "C:\\Users\\kdarc\\AppData\\Local\\Temp\\ipykernel_9480\\2075574221.py:73: UserWarning: To copy construct from a tensor, it is recommended to use sourceTensor.clone().detach() or sourceTensor.clone().detach().requires_grad_(True), rather than torch.tensor(sourceTensor).\n",
      "  labels = torch.tensor(labels).unsqueeze(0).to(device)\n"
     ]
    },
    {
     "name": "stdout",
     "output_type": "stream",
     "text": [
      "After epoch 2, accuracy: 0.93308, f1: 0.9346714045843258, precision: 0.9129605614463345, recall: 0.95744\n"
     ]
    },
    {
     "name": "stderr",
     "output_type": "stream",
     "text": [
      "C:\\Users\\kdarc\\AppData\\Local\\Temp\\ipykernel_9480\\2075574221.py:73: UserWarning: To copy construct from a tensor, it is recommended to use sourceTensor.clone().detach() or sourceTensor.clone().detach().requires_grad_(True), rather than torch.tensor(sourceTensor).\n",
      "  labels = torch.tensor(labels).unsqueeze(0).to(device)\n"
     ]
    },
    {
     "name": "stdout",
     "output_type": "stream",
     "text": [
      "After epoch 3, accuracy: 0.93596, f1: 0.9361311684685044, precision: 0.9336357125805681, recall: 0.93864\n"
     ]
    }
   ],
   "source": [
    "# M6W4.\n",
    "\n",
    "# Import required libraries.\n",
    "import os\n",
    "import re\n",
    "import torch\n",
    "from torch.utils.data import Dataset, DataLoader\n",
    "from transformers import BertForSequenceClassification, BertTokenizerFast, AdamW\n",
    "from sklearn.metrics import accuracy_score, precision_recall_fscore_support\n",
    "from torch import cuda\n",
    "\n",
    "device = 'cuda' if cuda.is_available() else 'cpu'\n",
    "\n",
    "\n",
    "\n",
    "# Prepare the data.\n",
    "class IMDbDataset(Dataset):\n",
    "\n",
    "    def __init__(self, dir_path, tokenizer):\n",
    "        self.tokenizer = tokenizer\n",
    "        self.positive_samples = []\n",
    "        self.negative_samples = []\n",
    "\n",
    "\n",
    "\n",
    "# Load positive samples.\n",
    "        for filename in os.listdir(os.path.join(dir_path, \"pos\")):\n",
    "            with open(os.path.join(dir_path, \"pos\", filename), 'r', encoding=\"utf-8\") as file:\n",
    "                text = file.read()\n",
    "                text = self._clean_text(text)\n",
    "                self.positive_samples.append(text)\n",
    "\n",
    "\n",
    "# Load negative samples.\n",
    "        for filename in os.listdir(os.path.join(dir_path, \"neg\")):\n",
    "            with open(os.path.join(dir_path, \"neg\", filename), 'r', encoding=\"utf-8\") as file:\n",
    "                text = file.read()\n",
    "                text = self._clean_text(text)\n",
    "                self.negative_samples.append(text)\n",
    "\n",
    "        self.samples = self.positive_samples + self.negative_samples\n",
    "        self.labels = [1] * len(self.positive_samples) + [0] * len(self.negative_samples)\n",
    "\n",
    "    def _clean_text(self, text):\n",
    "        \n",
    "        text = re.sub(r'<.*?>', '', text)\n",
    "        \n",
    "        text = re.sub(r'http\\S+|www\\.\\S+', '[URL]', text)\n",
    "        \n",
    "        text = re.sub(r'\\d+', '[NUM]', text)\n",
    "        return text\n",
    "\n",
    "    def __len__(self):\n",
    "        return len(self.samples)\n",
    "\n",
    "    def __getitem__(self, idx):\n",
    "        return (self.samples[idx], self.labels[idx])\n",
    "\n",
    "\n",
    "    \n",
    "    \n",
    "# Load tokenizer.\n",
    "tokenizer = BertTokenizerFast.from_pretrained('bert-base-uncased')\n",
    "\n",
    "\n",
    "# Load dataset.\n",
    "train_dataset = IMDbDataset(r\"C:/Users/kdarc/OneDrive/Desktop/M6W4/aclImdb/train\", tokenizer)\n",
    "test_dataset = IMDbDataset(r\"C:/Users/kdarc/OneDrive/Desktop/M6W4/aclImdb/test\", tokenizer)\n",
    "\n",
    "\n",
    "# Load to dataloader.\n",
    "train_loader = DataLoader(train_dataset, batch_size=16, shuffle=True)\n",
    "test_loader = DataLoader(test_dataset, batch_size=64)\n",
    "\n",
    "\n",
    "# Select and load a pre trained model.\n",
    "model = BertForSequenceClassification.from_pretrained('bert-base-uncased')\n",
    "model.to(device)\n",
    "\n",
    "\n",
    "# Fine tune the model.\n",
    "optimizer = AdamW(model.parameters(), lr=1e-5)\n",
    "\n",
    "for epoch in range(3):  # Number of epochs.\n",
    "    model.train()\n",
    "    for idx, batch in enumerate(train_loader):\n",
    "        inputs, labels = batch\n",
    "        inputs = tokenizer(inputs, padding=True, truncation=True, max_length=512, return_tensors=\"pt\").to(device)\n",
    "        labels = torch.tensor(labels).unsqueeze(0).to(device)\n",
    "\n",
    "        outputs = model(**inputs, labels=labels)\n",
    "        loss = outputs.loss\n",
    "        loss.backward()\n",
    "\n",
    "        optimizer.step()\n",
    "        optimizer.zero_grad()\n",
    "\n",
    "    model.eval()\n",
    "    preds = []\n",
    "    true = []\n",
    "    with torch.no_grad():\n",
    "        for batch in test_loader:\n",
    "            inputs, labels = batch\n",
    "            inputs = tokenizer(inputs, padding=True, truncation=True, max_length=512, return_tensors=\"pt\").to(device)\n",
    "            outputs = model(**inputs)\n",
    "            preds.extend(outputs.logits.argmax(-1).tolist())\n",
    "            true.extend(labels)\n",
    "\n",
    "            \n",
    "            \n",
    "            \n",
    "# Evaluate the model.\n",
    "    precision, recall, f1, _ = precision_recall_fscore_support(true, preds, average='binary')\n",
    "    acc = accuracy_score(true, preds)\n",
    "\n",
    "    print(f'After epoch {epoch+1}, accuracy: {acc}, f1: {f1}, precision: {precision}, recall: {recall}')\n",
    "\n"
   ]
  },
  {
   "cell_type": "code",
   "execution_count": null,
   "id": "aef40b29-deec-4519-b200-ecc6c3f3489a",
   "metadata": {},
   "outputs": [],
   "source": []
  }
 ],
 "metadata": {
  "kernelspec": {
   "display_name": "Python 3 (ipykernel)",
   "language": "python",
   "name": "python3"
  },
  "language_info": {
   "codemirror_mode": {
    "name": "ipython",
    "version": 3
   },
   "file_extension": ".py",
   "mimetype": "text/x-python",
   "name": "python",
   "nbconvert_exporter": "python",
   "pygments_lexer": "ipython3",
   "version": "3.9.13"
  }
 },
 "nbformat": 4,
 "nbformat_minor": 5
}
